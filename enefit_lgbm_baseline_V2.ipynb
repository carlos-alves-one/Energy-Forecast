{
  "nbformat": 4,
  "nbformat_minor": 0,
  "metadata": {
    "colab": {
      "provenance": [],
      "toc_visible": true,
      "authorship_tag": "ABX9TyOTnmZ1ukk+ibSAxVCtv9K0",
      "include_colab_link": true
    },
    "kernelspec": {
      "name": "python3",
      "display_name": "Python 3"
    },
    "language_info": {
      "name": "python"
    }
  },
  "cells": [
    {
      "cell_type": "markdown",
      "metadata": {
        "id": "view-in-github",
        "colab_type": "text"
      },
      "source": [
        "<a href=\"https://colab.research.google.com/github/carlos-alves-one/-Energy-Comp/blob/main/enefit_lgbm_baseline_V2.ipynb\" target=\"_parent\"><img src=\"https://colab.research.google.com/assets/colab-badge.svg\" alt=\"Open In Colab\"/></a>"
      ]
    },
    {
      "cell_type": "markdown",
      "source": [
        "# Install Libraries and Packages"
      ],
      "metadata": {
        "id": "7FXkM_mYjAHG"
      }
    },
    {
      "cell_type": "code",
      "execution_count": null,
      "metadata": {
        "id": "pOov_425imOY"
      },
      "outputs": [],
      "source": [
        "import os  # Import the os module for interacting with the operating system\n",
        "import gc  # Import the garbage collector module for memory management\n",
        "\n",
        "import numpy as np               # Import numpy for numerical operations and array handling\n",
        "import pandas as pd              # Import pandas for data manipulation and analysis\n",
        "import matplotlib.pyplot as plt  # Import matplotlib for creating static, animated, and interactive visualizations\n",
        "\n",
        "import seaborn as sns  # Import seaborn for statistical data visualization\n",
        "\n",
        "from sklearn.model_selection import cross_val_score  # Import cross_val_score for cross-validation of models\n",
        "\n",
        "import xgboost as xgb   # Import XGBoost for gradient boosting framework\n",
        "import lightgbm as lgb  # Import LightGBM for gradient boosting framework\n",
        "import catboost as cb   # Import CatBoost for gradient boosting on decision trees\n",
        "\n",
        "import optuna  # Import Optuna for hyperparameter optimization\n",
        "import shap    # Import SHAP for explaining the output of machine learning models\n",
        "\n",
        "from datetime import datetime  # Import datetime for handling date and time\n",
        "import pytz                    # Import pytz for handling timezone information\n"
      ]
    }
  ]
}