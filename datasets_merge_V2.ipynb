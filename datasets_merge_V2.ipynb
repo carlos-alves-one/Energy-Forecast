{
  "nbformat": 4,
  "nbformat_minor": 0,
  "metadata": {
    "colab": {
      "provenance": [],
      "toc_visible": true,
      "authorship_tag": "ABX9TyN/M5Hieaocd7IIUtVj/6Vs",
      "include_colab_link": true
    },
    "kernelspec": {
      "name": "python3",
      "display_name": "Python 3"
    },
    "language_info": {
      "name": "python"
    }
  },
  "cells": [
    {
      "cell_type": "markdown",
      "metadata": {
        "id": "view-in-github",
        "colab_type": "text"
      },
      "source": [
        "<a href=\"https://colab.research.google.com/github/carlos-alves-one/-Energy-Forecast/blob/main/datasets_merge_V2.ipynb\" target=\"_parent\"><img src=\"https://colab.research.google.com/assets/colab-badge.svg\" alt=\"Open In Colab\"/></a>"
      ]
    },
    {
      "cell_type": "markdown",
      "source": [
        "# Mount Google Drive"
      ],
      "metadata": {
        "id": "cgJNOSYGG7NY"
      }
    },
    {
      "cell_type": "code",
      "execution_count": 1,
      "metadata": {
        "colab": {
          "base_uri": "https://localhost:8080/"
        },
        "id": "jBEL7Hc3GuZz",
        "outputId": "ca957c1f-69c3-4422-e889-e8d6162f8b7a"
      },
      "outputs": [
        {
          "output_type": "stream",
          "name": "stdout",
          "text": [
            "Mounted at /content/drive\n"
          ]
        }
      ],
      "source": [
        "# Imports the 'drive' module from 'google.colab' and mounts the Google Drive to\n",
        "# the '/content/drive' directory in the Colab environment.\n",
        "from google.colab import drive\n",
        "\n",
        "# This function mounts Google Drive\n",
        "def mount_google_drive():\n",
        "    drive.mount('/content/drive')\n",
        "\n",
        "# Call the function to mount Google Drive\n",
        "mount_google_drive()\n"
      ]
    },
    {
      "cell_type": "markdown",
      "source": [
        "# Importing Necessary Libraries and Packages"
      ],
      "metadata": {
        "id": "D2vA8I5bIJ3N"
      }
    },
    {
      "cell_type": "code",
      "source": [
        "import pandas as pd              # Import pandas for data manipulation and analysis\n"
      ],
      "metadata": {
        "id": "EfFQ5MYQIVWB"
      },
      "execution_count": 2,
      "outputs": []
    },
    {
      "cell_type": "markdown",
      "source": [
        "# Input Data Files"
      ],
      "metadata": {
        "id": "5gxSoR2NKBkW"
      }
    },
    {
      "cell_type": "code",
      "source": [
        "test        = pd.read_csv('/content/drive/MyDrive/project_energy/test.csv')\n",
        "gas         = pd.read_csv('/content/drive/MyDrive/project_energy/gas_prices.csv')\n",
        "electricity = pd.read_csv('/content/drive/MyDrive/project_energy/electricity_prices.csv')\n",
        "client      = pd.read_csv('/content/drive/MyDrive/project_energy/client.csv')\n",
        "forecast    = pd.read_csv('/content/drive/MyDrive/project_energy/forecast_weather.csv')\n",
        "historical  = pd.read_csv('/content/drive/MyDrive/project_energy/historical_weather.csv')"
      ],
      "metadata": {
        "id": "WXTT-H5pKCPy"
      },
      "execution_count": 3,
      "outputs": []
    },
    {
      "cell_type": "code",
      "source": [],
      "metadata": {
        "id": "IpUWi-nDKQ6j"
      },
      "execution_count": null,
      "outputs": []
    }
  ]
}