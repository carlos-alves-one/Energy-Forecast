{
  "nbformat": 4,
  "nbformat_minor": 0,
  "metadata": {
    "colab": {
      "provenance": [],
      "toc_visible": true,
      "gpuType": "T4",
      "authorship_tag": "ABX9TyPw5/SYT/Z0kfGYWr6NADsX",
      "include_colab_link": true
    },
    "kernelspec": {
      "name": "python3",
      "display_name": "Python 3"
    },
    "language_info": {
      "name": "python"
    },
    "accelerator": "GPU"
  },
  "cells": [
    {
      "cell_type": "markdown",
      "metadata": {
        "id": "view-in-github",
        "colab_type": "text"
      },
      "source": [
        "<a href=\"https://colab.research.google.com/github/carlos-alves-one/-Energy-Comp/blob/main/project_energy.ipynb\" target=\"_parent\"><img src=\"https://colab.research.google.com/assets/colab-badge.svg\" alt=\"Open In Colab\"/></a>"
      ]
    },
    {
      "cell_type": "markdown",
      "source": [
        "#Understanding the Problem and the Data"
      ],
      "metadata": {
        "id": "stdTozWSl-nZ"
      }
    },
    {
      "cell_type": "markdown",
      "source": [
        "**Understand the specific problem of energy imbalance caused by prosumers and how the model can help Enefit**\n",
        "\n",
        "Specific Problem: Energy Imbalance Resulting from Prosumers\n",
        "\n",
        "The primary concern is the energy discrepancy that occurs when there is a disparity between the anticipated and the actual energy consumed or generated. The issue is worsened by prosumers contributing to the problem due to their simultaneous roles as energy consumers and producers. Their energy use and generation can be erratic, resulting in logistical and financial difficulties for energy firms like Enefit. These problems encompass the struggle to align supply and demand and the resulting expenditures from this imbalance.\n",
        "\n",
        "The Role of the Model in Facilitating Enefit\n",
        "The model aims to address these difficulties by offering precise forecasts of prosumers' energy usage and production. By doing so, the model will:\n",
        "\n",
        "1. Increase Forecasting Precision: Enhance Enefit's capacity to anticipate energy demands and production levels accurately.\n",
        "   \n",
        "2. Minimise Imbalance Expenses: Enefit can optimise its energy allocation by utilising more accurate forecasts, hence decreasing the expenses linked to energy imbalance.\n",
        "\n",
        "3. Enhance Resource Allocation Efficiency: Precise predictions will allow Enefit to distribute resources more optimally, thereby minimising waste and decreasing operational expenses.\n",
        "\n",
        "4. Enhance Strategic Decision-Making: Enefit can improve its ability to make strategic decisions on infrastructure investments and policy changes by gaining deeper insights into consumer behaviour.\n",
        "\n",
        "5. Encourage Sustainable Habits: Enefit may encourage prosumers to use renewable energy sources through efficient energy management, facilitating the shift towards more environmentally friendly energy habits.\n",
        "\n",
        "The model must incorporate multiple variables that impact consumer behaviour, such as weather patterns, past energy usage trends, pricing fluctuations, etc. The model's performance will be assessed based on its Mean Absolute Error (MAE), which requires your predictions to match the actual values to minimise the error measurement closely.\n",
        "\n",
        "The competition offers a dataset of historical meteorological data, energy pricing, and details regarding prosumer attributes. The given Python time-series API will guarantee that the model complies with the competition's specifications, including the prohibition of looking ahead in time and utilising just the available data for making predictions."
      ],
      "metadata": {
        "id": "70MefOSdnE-C"
      }
    },
    {
      "cell_type": "markdown",
      "source": [
        "#Study the Data"
      ],
      "metadata": {
        "id": "zzloKS5iq9s1"
      }
    },
    {
      "cell_type": "markdown",
      "source": [
        "#Data Collection"
      ],
      "metadata": {
        "id": "UvEsJEcAsPRg"
      }
    },
    {
      "cell_type": "markdown",
      "source": [
        "##1. Load the Data\n",
        "   - Connect to Google Drive to access the dataset\n",
        "   - Load the data from the provided CSV file."
      ],
      "metadata": {
        "id": "imtu4qG2sUe1"
      }
    },
    {
      "cell_type": "code",
      "source": [
        "\n",
        "# Imports the 'drive' module from 'google.colab' and mounts the Google Drive to\n",
        "# the '/content/drive' directory in the Colab environment.\n",
        "from google.colab import drive\n",
        "\n",
        "# This function mounts Google Drive\n",
        "def mount_google_drive():\n",
        "    drive.mount('/content/drive')\n",
        "\n",
        "# Call the function to mount Google Drive\n",
        "mount_google_drive()"
      ],
      "metadata": {
        "colab": {
          "base_uri": "https://localhost:8080/"
        },
        "id": "roqLTiEFrN5K",
        "outputId": "2d887b9f-cff5-4bba-9147-c81eec73990d"
      },
      "execution_count": 1,
      "outputs": [
        {
          "output_type": "stream",
          "name": "stdout",
          "text": [
            "Mounted at /content/drive\n"
          ]
        }
      ]
    },
    {
      "cell_type": "code",
      "source": [
        "# Unit tests\n",
        "import unittest\n",
        "from unittest.mock import patch\n",
        "\n",
        "class TestDriveMount(unittest.TestCase):\n",
        "    @patch('google.colab.drive.mount')\n",
        "    def test_drive_mount(self, mock_drive_mount):\n",
        "        # Mock the drive.mount function\n",
        "        mock_drive_mount.return_value = None\n",
        "\n",
        "        # Call the function we want to test\n",
        "        mount_google_drive()\n",
        "\n",
        "        # Assert that drive.mount was called with the correct arguments\n",
        "        mock_drive_mount.assert_called_once_with('/content/drive')\n",
        "\n",
        "# Running the tests\n",
        "unittest.main(argv=[''], exit=False)\n"
      ],
      "metadata": {
        "colab": {
          "base_uri": "https://localhost:8080/"
        },
        "id": "RjbPFy4BsznR",
        "outputId": "61212f3f-05e9-4bae-d29d-6c952730d35e"
      },
      "execution_count": 2,
      "outputs": [
        {
          "output_type": "stream",
          "name": "stderr",
          "text": [
            ".\n",
            "----------------------------------------------------------------------\n",
            "Ran 1 test in 0.004s\n",
            "\n",
            "OK\n"
          ]
        },
        {
          "output_type": "execute_result",
          "data": {
            "text/plain": [
              "<unittest.main.TestProgram at 0x789e87b5ec50>"
            ]
          },
          "metadata": {},
          "execution_count": 2
        }
      ]
    },
    {
      "cell_type": "code",
      "source": [
        "# Import the pandas library to read the data\n",
        "import pandas as pd\n",
        "\n",
        "# Importing the os module\n",
        "import os\n",
        "\n",
        "# Function to load the dataset\n",
        "def load_dataset(path):\n",
        "    data = pd.read_csv(path)\n",
        "    return data\n",
        "\n",
        "class TestDatasetLoading(unittest.TestCase):\n",
        "\n",
        "    def setUp(self):\n",
        "        # Define the dataset path\n",
        "        self.dataset_path = '/content/drive/MyDrive/Glaucoma_Global_Analysis.csv'\n",
        "\n",
        "    def test_file_exists(self):\n",
        "        # Test whether the file exists\n",
        "        self.assertTrue(os.path.isfile(self.dataset_path), \"Dataset file does not exist at the specified path.\")\n",
        "\n",
        "    def test_load_dataset(self):\n",
        "        # Test loading the dataset\n",
        "        data = load_dataset(self.dataset_path)\n",
        "        self.assertIsInstance(data, pd.DataFrame, \"Loaded data is not a pandas DataFrame.\")\n",
        "\n",
        "    def test_dataset_not_empty(self):\n",
        "        # Test that the dataset is not empty\n",
        "        data = load_dataset(self.dataset_path)\n",
        "        self.assertFalse(data.empty, \"The loaded dataset is empty.\")\n",
        "\n",
        "# Running the tests\n",
        "if __name__ == '__main__':\n",
        "    unittest.main(argv=[''], exit=False)\n",
        "\n",
        "# Load the dataset and display the first 3 rows\n",
        "data = load_dataset('/content/drive/MyDrive/project_energy/train.csv')\n",
        "print(data.head(1).T)\n"
      ],
      "metadata": {
        "colab": {
          "base_uri": "https://localhost:8080/"
        },
        "id": "c_wZvgREs18y",
        "outputId": "f88c26c0-2e66-49d2-dfaf-c6667d669778"
      },
      "execution_count": 3,
      "outputs": [
        {
          "output_type": "stream",
          "name": "stderr",
          "text": [
            "....\n",
            "----------------------------------------------------------------------\n",
            "Ran 4 tests in 0.333s\n",
            "\n",
            "OK\n"
          ]
        },
        {
          "output_type": "stream",
          "name": "stdout",
          "text": [
            "                                      0\n",
            "county                                0\n",
            "is_business                           0\n",
            "product_type                          1\n",
            "target                            0.713\n",
            "is_consumption                        0\n",
            "datetime            2021-09-01 00:00:00\n",
            "data_block_id                         0\n",
            "row_id                                0\n",
            "prediction_unit_id                    0\n"
          ]
        }
      ]
    },
    {
      "cell_type": "code",
      "source": [
        "# Import the pandas library to read the data\n",
        "import pandas as pd\n",
        "\n",
        "# Load the training data\n",
        "train_data = data\n",
        "\n",
        "# Get the number of rows and columns\n",
        "num_rows, num_columns = train_data.shape\n",
        "\n",
        "# Format and print the numbers with dots as thousand separators\n",
        "print(\"Number of Rows.....:\", \"{:,}\".format(num_rows).replace(\",\", \".\"))\n",
        "print(\"Number of Columns..:\", \"{:,}\".format(num_columns).replace(\",\", \".\"))\n"
      ],
      "metadata": {
        "colab": {
          "base_uri": "https://localhost:8080/"
        },
        "id": "D0rNGdAjx8lb",
        "outputId": "83974016-7517-49ec-cf4c-41217b2e6f9d"
      },
      "execution_count": 4,
      "outputs": [
        {
          "output_type": "stream",
          "name": "stdout",
          "text": [
            "Number of Rows.....: 2.018.352\n",
            "Number of Columns..: 9\n"
          ]
        }
      ]
    },
    {
      "cell_type": "markdown",
      "source": [
        "#Preparing the Data"
      ],
      "metadata": {
        "id": "1xsEONfhrG98"
      }
    },
    {
      "cell_type": "code",
      "source": [
        "# Check for missing values\n",
        "print(train_data.isnull().sum())\n",
        "\n",
        "# Handling missing values\n",
        "# For numerical columns, we might fill missing values with the mean or median\n",
        "train_data = train_data.fillna(train_data.mean())\n",
        "\n",
        "# For categorical data, we might fill missing values with the mode or a placeholder value\n",
        "train_data['product_type'] = train_data['product_type'].fillna(train_data['product_type'].mode()[0])\n",
        "\n",
        "# Handle outliers\n",
        "# Assuming 'target' column could have outliers, we can use IQR\n",
        "Q1 = train_data['target'].quantile(0.25)\n",
        "Q3 = train_data['target'].quantile(0.75)\n",
        "IQR = Q3 - Q1\n",
        "\n",
        "# Filter out the outliers\n",
        "train_data = train_data[~((train_data['target'] < (Q1 - 1.5 * IQR)) |(train_data['target'] > (Q3 + 1.5 * IQR)))]\n"
      ],
      "metadata": {
        "colab": {
          "base_uri": "https://localhost:8080/"
        },
        "id": "hxpmMv39rH2r",
        "outputId": "56a5dc12-57c7-4c6a-c22a-5645375a7ba7"
      },
      "execution_count": null,
      "outputs": [
        {
          "output_type": "stream",
          "name": "stdout",
          "text": [
            "county                  0\n",
            "is_business             0\n",
            "product_type            0\n",
            "target                528\n",
            "is_consumption          0\n",
            "datetime                0\n",
            "data_block_id           0\n",
            "row_id                  0\n",
            "prediction_unit_id      0\n",
            "dtype: int64\n"
          ]
        }
      ]
    }
  ]
}